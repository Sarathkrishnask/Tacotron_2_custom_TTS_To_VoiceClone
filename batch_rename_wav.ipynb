{
  "nbformat": 4,
  "nbformat_minor": 0,
  "metadata": {
    "colab": {
      "provenance": []
    },
    "kernelspec": {
      "name": "python3",
      "display_name": "Python 3"
    },
    "language_info": {
      "name": "python"
    }
  },
  "cells": [
    {
      "cell_type": "code",
      "execution_count": 1,
      "metadata": {
        "colab": {
          "base_uri": "https://localhost:8080/"
        },
        "id": "_CXwsAwoj7L_",
        "outputId": "60a8bdbc-3edf-4237-8ab4-6464b0329ad6"
      },
      "outputs": [
        {
          "output_type": "stream",
          "name": "stdout",
          "text": [
            "Mounted at /content/drive\n"
          ]
        }
      ],
      "source": [
        "from google.colab import drive\n",
        "drive.mount('/content/drive')"
      ]
    },
    {
      "cell_type": "code",
      "source": [
        "import os\n",
        "\n",
        "\n",
        "def rename_wave_files(folder_path):\n",
        "    files = os.listdir(folder_path)\n",
        "    wav_files = [f for f in files if f.lower().endswith('.wav')]\n",
        "\n",
        "    print(f'Folder path: {folder_path}')\n",
        "    print(f'All files in the folder: {files}')\n",
        "    print(f'Wave files found: {len(wav_files)}')\n",
        "\n",
        "    for index, wav_file in enumerate(wav_files, start=1):\n",
        "        old_path = os.path.join(folder_path, wav_file)\n",
        "        new_path = os.path.join(folder_path, f'{index}.wav')\n",
        "        os.rename(old_path, new_path)\n",
        "        print(f'Renamed {old_path} to {new_path}')\n",
        "\n",
        "\n",
        "if __name__ == \"__main__\":\n",
        "    folder_path = \"/content/drive/MyDrive/tacotron/first_wavs\"  # Change this to your wav file folder\n",
        "    rename_wave_files(folder_path)\n",
        "    print(\"Wave files renamed successfully!\")"
      ],
      "metadata": {
        "id": "TGBmpAi0j9Z9"
      },
      "execution_count": null,
      "outputs": []
    }
  ]
}