{
  "nbformat": 4,
  "nbformat_minor": 0,
  "metadata": {
    "colab": {
      "provenance": []
    },
    "kernelspec": {
      "name": "python3",
      "display_name": "Python 3"
    },
    "language_info": {
      "name": "python"
    },
    "accelerator": "TPU"
  },
  "cells": [
    {
      "cell_type": "code",
      "source": [
        "!pip install pytaglib"
      ],
      "metadata": {
        "colab": {
          "base_uri": "https://localhost:8080/"
        },
        "id": "3ia1L-xAllbf",
        "outputId": "ae8a369a-9d0b-4f49-e5c1-5fc0ac6fb278"
      },
      "execution_count": 1,
      "outputs": [
        {
          "output_type": "stream",
          "name": "stdout",
          "text": [
            "Collecting pytaglib\n",
            "  Downloading pytaglib-2.0.0-cp310-cp310-manylinux_2_17_x86_64.manylinux2014_x86_64.whl (894 kB)\n",
            "\u001b[?25l     \u001b[90m━━━━━━━━━━━━━━━━━━━━━━━━━━━━━━━━━━━━━━━━\u001b[0m \u001b[32m0.0/894.4 kB\u001b[0m \u001b[31m?\u001b[0m eta \u001b[36m-:--:--\u001b[0m\r\u001b[2K     \u001b[91m━━━\u001b[0m\u001b[91m╸\u001b[0m\u001b[90m━━━━━━━━━━━━━━━━━━━━━━━━━━━━━━━━━━━━\u001b[0m \u001b[32m81.9/894.4 kB\u001b[0m \u001b[31m2.5 MB/s\u001b[0m eta \u001b[36m0:00:01\u001b[0m\r\u001b[2K     \u001b[91m━━━━━━━━━━━━━━━\u001b[0m\u001b[91m╸\u001b[0m\u001b[90m━━━━━━━━━━━━━━━━━━━━━━━\u001b[0m \u001b[32m358.4/894.4 kB\u001b[0m \u001b[31m5.4 MB/s\u001b[0m eta \u001b[36m0:00:01\u001b[0m\r\u001b[2K     \u001b[91m━━━━━━━━━━━━━━━━━━━━━━━━━━━━━\u001b[0m\u001b[90m╺\u001b[0m\u001b[90m━━━━━━━━━\u001b[0m \u001b[32m675.8/894.4 kB\u001b[0m \u001b[31m6.5 MB/s\u001b[0m eta \u001b[36m0:00:01\u001b[0m\r\u001b[2K     \u001b[90m━━━━━━━━━━━━━━━━━━━━━━━━━━━━━━━━━━━━━━━\u001b[0m \u001b[32m894.4/894.4 kB\u001b[0m \u001b[31m6.4 MB/s\u001b[0m eta \u001b[36m0:00:00\u001b[0m\n",
            "\u001b[?25hInstalling collected packages: pytaglib\n",
            "Successfully installed pytaglib-2.0.0\n"
          ]
        }
      ]
    },
    {
      "cell_type": "code",
      "source": [
        "# !pip install shutil"
      ],
      "metadata": {
        "id": "r8ZiVcQJlp-i"
      },
      "execution_count": 2,
      "outputs": []
    },
    {
      "cell_type": "code",
      "execution_count": 3,
      "metadata": {
        "id": "ndlXcBjyk-6V"
      },
      "outputs": [],
      "source": [
        "import os\n",
        "import shutil\n",
        "import taglib\n"
      ]
    },
    {
      "cell_type": "code",
      "source": [
        "from google.colab import drive\n",
        "drive.mount('/content/drive')"
      ],
      "metadata": {
        "colab": {
          "base_uri": "https://localhost:8080/"
        },
        "id": "XnYHKu1LlifP",
        "outputId": "e04101b4-8668-4435-a7dc-92dea29eedcb"
      },
      "execution_count": 4,
      "outputs": [
        {
          "output_type": "stream",
          "name": "stdout",
          "text": [
            "Mounted at /content/drive\n"
          ]
        }
      ]
    },
    {
      "cell_type": "code",
      "source": [
        "def update_metadata(input_folder, output_folder):\n",
        "    if not os.path.exists(output_folder):\n",
        "        os.makedirs(output_folder)\n",
        "\n",
        "    for i in range(1, 100):  # change  this to the number of files in your folder + 1\n",
        "        input_file = os.path.join(input_folder, f\"{i}.wav\")\n",
        "        output_file = os.path.join(output_folder, f\"{i}.wav\")\n",
        "\n",
        "        if os.path.exists(input_file):\n",
        "            # Load WAV file and update metadata\n",
        "            with taglib.File(input_file) as audio:\n",
        "                # Set the title to match the file name without the extension\n",
        "                audio.tags[\"TITLE\"] = [f\"{i}\"]\n",
        "                # Set the track number to match the file name without the extension\n",
        "                audio.tags[\"TRACKNUMBER\"] = [f\"{i}\"]\n",
        "\n",
        "                # Save updated WAV file\n",
        "                audio.save()\n",
        "\n",
        "            # Copy the updated file to the output folder instead of moving it\n",
        "            shutil.copy2(input_file, output_file)\n",
        "\n",
        "            print(\n",
        "                f\"Updated metadata for {i}.wav: title='{i}', track number={i}\")  # Update the print statement as well\n",
        "        else:\n",
        "            print(f\"File {i}.wav not found.\")\n",
        "\n",
        "\n",
        "if __name__ == \"__main__\":\n",
        "    input_folder = \"/content/drive/MyDrive/tacotron/wavs\"  # your path\n",
        "    output_folder = \"/content/drive/MyDrive/tacotron/output\"  # your path\n",
        "    update_metadata(input_folder, output_folder)"
      ],
      "metadata": {
        "colab": {
          "base_uri": "https://localhost:8080/"
        },
        "id": "WFCRj78SlItf",
        "outputId": "32cd12b1-ace5-4e76-922e-d2a28dbb304b"
      },
      "execution_count": 6,
      "outputs": [
        {
          "output_type": "stream",
          "name": "stdout",
          "text": [
            "Updated metadata for 1.wav: title='1', track number=1\n",
            "Updated metadata for 2.wav: title='2', track number=2\n",
            "Updated metadata for 3.wav: title='3', track number=3\n",
            "Updated metadata for 4.wav: title='4', track number=4\n",
            "Updated metadata for 5.wav: title='5', track number=5\n",
            "Updated metadata for 6.wav: title='6', track number=6\n",
            "Updated metadata for 7.wav: title='7', track number=7\n",
            "Updated metadata for 8.wav: title='8', track number=8\n",
            "Updated metadata for 9.wav: title='9', track number=9\n",
            "Updated metadata for 10.wav: title='10', track number=10\n",
            "Updated metadata for 11.wav: title='11', track number=11\n",
            "Updated metadata for 12.wav: title='12', track number=12\n",
            "Updated metadata for 13.wav: title='13', track number=13\n",
            "Updated metadata for 14.wav: title='14', track number=14\n",
            "Updated metadata for 15.wav: title='15', track number=15\n",
            "Updated metadata for 16.wav: title='16', track number=16\n",
            "Updated metadata for 17.wav: title='17', track number=17\n",
            "Updated metadata for 18.wav: title='18', track number=18\n",
            "Updated metadata for 19.wav: title='19', track number=19\n",
            "Updated metadata for 20.wav: title='20', track number=20\n",
            "Updated metadata for 21.wav: title='21', track number=21\n",
            "Updated metadata for 22.wav: title='22', track number=22\n",
            "Updated metadata for 23.wav: title='23', track number=23\n",
            "Updated metadata for 24.wav: title='24', track number=24\n",
            "Updated metadata for 25.wav: title='25', track number=25\n",
            "Updated metadata for 26.wav: title='26', track number=26\n",
            "Updated metadata for 27.wav: title='27', track number=27\n",
            "Updated metadata for 28.wav: title='28', track number=28\n",
            "Updated metadata for 29.wav: title='29', track number=29\n",
            "Updated metadata for 30.wav: title='30', track number=30\n",
            "Updated metadata for 31.wav: title='31', track number=31\n",
            "Updated metadata for 32.wav: title='32', track number=32\n",
            "Updated metadata for 33.wav: title='33', track number=33\n",
            "Updated metadata for 34.wav: title='34', track number=34\n",
            "Updated metadata for 35.wav: title='35', track number=35\n",
            "Updated metadata for 36.wav: title='36', track number=36\n",
            "Updated metadata for 37.wav: title='37', track number=37\n",
            "Updated metadata for 38.wav: title='38', track number=38\n",
            "Updated metadata for 39.wav: title='39', track number=39\n",
            "Updated metadata for 40.wav: title='40', track number=40\n",
            "Updated metadata for 41.wav: title='41', track number=41\n",
            "Updated metadata for 42.wav: title='42', track number=42\n",
            "Updated metadata for 43.wav: title='43', track number=43\n",
            "Updated metadata for 44.wav: title='44', track number=44\n",
            "Updated metadata for 45.wav: title='45', track number=45\n",
            "Updated metadata for 46.wav: title='46', track number=46\n",
            "Updated metadata for 47.wav: title='47', track number=47\n",
            "Updated metadata for 48.wav: title='48', track number=48\n",
            "Updated metadata for 49.wav: title='49', track number=49\n",
            "Updated metadata for 50.wav: title='50', track number=50\n",
            "Updated metadata for 51.wav: title='51', track number=51\n",
            "Updated metadata for 52.wav: title='52', track number=52\n",
            "Updated metadata for 53.wav: title='53', track number=53\n",
            "Updated metadata for 54.wav: title='54', track number=54\n",
            "Updated metadata for 55.wav: title='55', track number=55\n",
            "Updated metadata for 56.wav: title='56', track number=56\n",
            "Updated metadata for 57.wav: title='57', track number=57\n",
            "Updated metadata for 58.wav: title='58', track number=58\n",
            "Updated metadata for 59.wav: title='59', track number=59\n",
            "Updated metadata for 60.wav: title='60', track number=60\n",
            "Updated metadata for 61.wav: title='61', track number=61\n",
            "Updated metadata for 62.wav: title='62', track number=62\n",
            "Updated metadata for 63.wav: title='63', track number=63\n",
            "Updated metadata for 64.wav: title='64', track number=64\n",
            "Updated metadata for 65.wav: title='65', track number=65\n",
            "Updated metadata for 66.wav: title='66', track number=66\n",
            "Updated metadata for 67.wav: title='67', track number=67\n",
            "Updated metadata for 68.wav: title='68', track number=68\n",
            "Updated metadata for 69.wav: title='69', track number=69\n",
            "Updated metadata for 70.wav: title='70', track number=70\n",
            "Updated metadata for 71.wav: title='71', track number=71\n",
            "Updated metadata for 72.wav: title='72', track number=72\n",
            "Updated metadata for 73.wav: title='73', track number=73\n",
            "Updated metadata for 74.wav: title='74', track number=74\n",
            "Updated metadata for 75.wav: title='75', track number=75\n",
            "Updated metadata for 76.wav: title='76', track number=76\n",
            "Updated metadata for 77.wav: title='77', track number=77\n",
            "Updated metadata for 78.wav: title='78', track number=78\n",
            "Updated metadata for 79.wav: title='79', track number=79\n",
            "Updated metadata for 80.wav: title='80', track number=80\n",
            "Updated metadata for 81.wav: title='81', track number=81\n",
            "Updated metadata for 82.wav: title='82', track number=82\n",
            "Updated metadata for 83.wav: title='83', track number=83\n",
            "Updated metadata for 84.wav: title='84', track number=84\n",
            "Updated metadata for 85.wav: title='85', track number=85\n",
            "Updated metadata for 86.wav: title='86', track number=86\n",
            "Updated metadata for 87.wav: title='87', track number=87\n",
            "Updated metadata for 88.wav: title='88', track number=88\n",
            "Updated metadata for 89.wav: title='89', track number=89\n",
            "Updated metadata for 90.wav: title='90', track number=90\n",
            "Updated metadata for 91.wav: title='91', track number=91\n",
            "Updated metadata for 92.wav: title='92', track number=92\n",
            "Updated metadata for 93.wav: title='93', track number=93\n",
            "Updated metadata for 94.wav: title='94', track number=94\n",
            "Updated metadata for 95.wav: title='95', track number=95\n",
            "Updated metadata for 96.wav: title='96', track number=96\n",
            "Updated metadata for 97.wav: title='97', track number=97\n",
            "Updated metadata for 98.wav: title='98', track number=98\n",
            "Updated metadata for 99.wav: title='99', track number=99\n"
          ]
        }
      ]
    },
    {
      "cell_type": "code",
      "source": [],
      "metadata": {
        "id": "QCo35q4smdUp"
      },
      "execution_count": null,
      "outputs": []
    }
  ]
}