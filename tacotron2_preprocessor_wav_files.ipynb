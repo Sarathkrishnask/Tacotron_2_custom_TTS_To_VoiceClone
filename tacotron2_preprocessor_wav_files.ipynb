{
  "nbformat": 4,
  "nbformat_minor": 0,
  "metadata": {
    "colab": {
      "provenance": []
    },
    "kernelspec": {
      "name": "python3",
      "display_name": "Python 3"
    },
    "language_info": {
      "name": "python"
    }
  },
  "cells": [
    {
      "cell_type": "code",
      "execution_count": 1,
      "metadata": {
        "id": "HRc7GSf_h-PL"
      },
      "outputs": [],
      "source": [
        "import os\n",
        "import librosa\n",
        "import soundfile as sf\n",
        "\n"
      ]
    },
    {
      "cell_type": "code",
      "source": [
        "from google.colab import drive\n",
        "drive.mount('/content/drive')"
      ],
      "metadata": {
        "colab": {
          "base_uri": "https://localhost:8080/"
        },
        "id": "12g30sQNiSHX",
        "outputId": "7fb563b4-22fc-485b-9453-895653d1f231"
      },
      "execution_count": 2,
      "outputs": [
        {
          "output_type": "stream",
          "name": "stdout",
          "text": [
            "Mounted at /content/drive\n"
          ]
        }
      ]
    },
    {
      "cell_type": "code",
      "source": [
        "input_path = \"/content/drive/MyDrive/tacotron/wavs\"  # Add your path\n",
        "output_path = \"/content/drive/MyDrive/tacotron/output\"  # Add your path\n",
        "\n",
        "if not os.path.exists(output_path):\n",
        "    os.makedirs(output_path)\n",
        "\n",
        "for filename in os.listdir(input_path):\n",
        "    if filename.endswith(\".wav\"):\n",
        "        # Load the .wav file\n",
        "        filepath = os.path.join(input_path, filename)\n",
        "        y, sr = librosa.load(filepath, sr=22050)\n",
        "\n",
        "        # Trim silence\n",
        "        trimmed_audio, _ = librosa.effects.trim(y, top_db=20)\n",
        "\n",
        "        # Normalize audio\n",
        "        normalized_audio = librosa.util.normalize(trimmed_audio)\n",
        "\n",
        "        # Save processed .wav file to the output folder\n",
        "        output_filepath = os.path.join(output_path, filename)\n",
        "        sf.write(output_filepath, normalized_audio, sr, subtype='PCM_16')\n",
        "\n",
        "print(\"All .wav files have been preprocessed and saved to the output folder.\")"
      ],
      "metadata": {
        "colab": {
          "base_uri": "https://localhost:8080/"
        },
        "id": "-L3DAU93iKev",
        "outputId": "4016a11b-84ac-4343-9383-bebc98505c40"
      },
      "execution_count": 8,
      "outputs": [
        {
          "output_type": "stream",
          "name": "stdout",
          "text": [
            "All .wav files have been preprocessed and saved to the output folder.\n"
          ]
        }
      ]
    },
    {
      "cell_type": "code",
      "source": [],
      "metadata": {
        "id": "SC2vwJc_jrI2"
      },
      "execution_count": null,
      "outputs": []
    }
  ]
}